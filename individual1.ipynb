{
 "cells": [
  {
   "cell_type": "code",
   "execution_count": 1,
   "id": "a31dc042-6c81-4caa-87b1-fe8920ac6438",
   "metadata": {},
   "outputs": [
    {
     "data": {
      "text/plain": [
       "DataTransformerRegistry.enable('default')"
      ]
     },
     "execution_count": 1,
     "metadata": {},
     "output_type": "execute_result"
    }
   ],
   "source": [
    "import altair as alt\n",
    "import pandas as pd\n",
    "from dash import Dash, html, dcc, Input, Output\n",
    "\n",
    "df = pd.read_csv(\"netflix.csv\")\n",
    "\n",
    "alt.data_transformers.disable_max_rows()\n",
    "\n"
   ]
  },
  {
   "cell_type": "code",
   "execution_count": 2,
   "id": "39b16ce4-9ddb-4b48-9df8-80631051a7ba",
   "metadata": {},
   "outputs": [],
   "source": [
    "def plot_altair(ycol):\n",
    "    chart = alt.Chart(df).mark_point().encode(\n",
    "        x='type',\n",
    "        y=ycol).interactive()\n",
    "\n",
    "    return chart.to_html()"
   ]
  },
  {
   "cell_type": "code",
   "execution_count": null,
   "id": "9fcf6b68-74f8-41b8-b8e2-bfa72e4b7b7c",
   "metadata": {},
   "outputs": [
    {
     "name": "stdout",
     "output_type": "stream",
     "text": [
      "Dash is running on http://127.0.0.1:8070/\n",
      "\n",
      " * Serving Flask app '__main__' (lazy loading)\n",
      " * Environment: production\n",
      "\u001b[31m   WARNING: This is a development server. Do not use it in a production deployment.\u001b[0m\n",
      "\u001b[2m   Use a production WSGI server instead.\u001b[0m\n",
      " * Debug mode: off\n"
     ]
    },
    {
     "name": "stderr",
     "output_type": "stream",
     "text": [
      "No traceback available to show.\n",
      " * Running on http://127.0.0.1:8070/ (Press CTRL+C to quit)\n"
     ]
    }
   ],
   "source": [
    "%tb\n",
    "app = Dash(__name__)\n",
    "\n",
    "app.layout = html.Div([\n",
    "        dcc.Dropdown(\n",
    "            id='ycol', value='release_year',\n",
    "            options=[{'label': i, 'value': i} for i in df.columns]),\n",
    "        html.Iframe(\n",
    "            id='scatter',\n",
    "            style={'border-width': '0', 'width': '100%', 'height': '400px'},\n",
    "            srcDoc=plot_altair(ycol='release_year'))])\n",
    "\n",
    "@app.callback(\n",
    "    Output('scatter', 'srcDoc'),\n",
    "    Input('ycol', 'value'))\n",
    "def update_output(ycol):\n",
    "    return plot_altair(ycol)\n",
    "\n",
    "if __name__ == '__main__':\n",
    "    app.run_server(\n",
    "        port = 8070,\n",
    "        debug=False)"
   ]
  },
  {
   "cell_type": "code",
   "execution_count": 1,
   "id": "77d4a812-f6dc-4493-b14a-0da7ff834488",
   "metadata": {},
   "outputs": [
    {
     "ename": "NameError",
     "evalue": "name 'python_version' is not defined",
     "output_type": "error",
     "traceback": [
      "\u001b[0;31m---------------------------------------------------------------------------\u001b[0m",
      "\u001b[0;31mNameError\u001b[0m                                 Traceback (most recent call last)",
      "Input \u001b[0;32mIn [1]\u001b[0m, in \u001b[0;36m<module>\u001b[0;34m\u001b[0m\n\u001b[0;32m----> 1\u001b[0m \u001b[43mpython_version\u001b[49m(altair)\n",
      "\u001b[0;31mNameError\u001b[0m: name 'python_version' is not defined"
     ]
    }
   ],
   "source": [
    "python_version(altair)"
   ]
  },
  {
   "cell_type": "code",
   "execution_count": null,
   "id": "68e8b6a8-cfc4-4dbf-8cf7-32069b37da8b",
   "metadata": {},
   "outputs": [],
   "source": []
  }
 ],
 "metadata": {
  "kernelspec": {
   "display_name": "Python [conda env:532]",
   "language": "python",
   "name": "conda-env-532-py"
  },
  "language_info": {
   "codemirror_mode": {
    "name": "ipython",
    "version": 3
   },
   "file_extension": ".py",
   "mimetype": "text/x-python",
   "name": "python",
   "nbconvert_exporter": "python",
   "pygments_lexer": "ipython3",
   "version": "3.10.2"
  }
 },
 "nbformat": 4,
 "nbformat_minor": 5
}
